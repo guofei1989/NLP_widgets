{
 "cells": [
  {
   "cell_type": "markdown",
   "metadata": {},
   "source": [
    "利用sklearn中的feature_extraction进行OneHot向量化<br>\n",
    "HashVector相当于OneHot向量的哈希化（相当于把onehot的index通过hash函数映射到新的index，再将对应的count相加），从而通过降维的方式减少向量维度，减小存储压力。其缺点在于无法实现逆操作，即每个特征意义不明，虽然可以直接用于分类、聚类等操作，但无法像OneHot可进行特征TF-IDF等进一步特征处理"
   ]
  },
  {
   "cell_type": "code",
   "execution_count": 5,
   "metadata": {},
   "outputs": [],
   "source": [
    "\"\"\"\n",
    "其主要参数和CountVectorizer类似，增加了如下几个参数\n",
    "norm： 对结果L1或L2正则化\n",
    "alternate_sign: 生成一个符号函数，默认True\n",
    "non_negative： 对负值取绝对值\n",
    "\"\"\"\n",
    "\n",
    "from sklearn.feature_extraction.text import HashingVectorizer\n",
    "\n",
    "corpus = [\"I come to China to travel\",\n",
    "    \"This is a car polupar in China\",\n",
    "    \"I love tea and Apple \",\n",
    "    \"The work is to write some papers in science\"]\n",
    "\n",
    "\n",
    "vector = HashingVectorizer(n_features=10, norm=None)\n",
    "result = vector.fit_transform(corpus)"
   ]
  },
  {
   "cell_type": "code",
   "execution_count": 6,
   "metadata": {},
   "outputs": [
    {
     "name": "stdout",
     "output_type": "stream",
     "text": [
      "  (0, 1)\t2.0\n",
      "  (0, 4)\t1.0\n",
      "  (0, 6)\t-1.0\n",
      "  (0, 7)\t-1.0\n",
      "  (1, 2)\t1.0\n",
      "  (1, 5)\t-1.0\n",
      "  (1, 6)\t-1.0\n",
      "  (1, 7)\t0.0\n",
      "  (1, 9)\t1.0\n",
      "  (2, 0)\t1.0\n",
      "  (2, 1)\t-1.0\n",
      "  (2, 4)\t1.0\n",
      "  (2, 5)\t-1.0\n",
      "  (3, 1)\t1.0\n",
      "  (3, 3)\t0.0\n",
      "  (3, 6)\t1.0\n",
      "  (3, 7)\t1.0\n",
      "  (3, 8)\t-2.0\n",
      "  (3, 9)\t2.0\n"
     ]
    }
   ],
   "source": [
    "# hash后，无特征名称（特征无意义）\n",
    "print(result)"
   ]
  },
  {
   "cell_type": "code",
   "execution_count": 7,
   "metadata": {},
   "outputs": [
    {
     "name": "stdout",
     "output_type": "stream",
     "text": [
      "[[ 0.  2.  0.  0.  1.  0. -1. -1.  0.  0.]\n",
      " [ 0.  0.  1.  0.  0. -1. -1.  0.  0.  1.]\n",
      " [ 1. -1.  0.  0.  1. -1.  0.  0.  0.  0.]\n",
      " [ 0.  1.  0.  0.  0.  0.  1.  1. -2.  2.]]\n"
     ]
    }
   ],
   "source": [
    "# 结果矩阵\n",
    "print(result.toarray())"
   ]
  },
  {
   "cell_type": "code",
   "execution_count": null,
   "metadata": {},
   "outputs": [],
   "source": []
  }
 ],
 "metadata": {
  "kernelspec": {
   "display_name": "Python 3",
   "language": "python",
   "name": "python3"
  },
  "language_info": {
   "codemirror_mode": {
    "name": "ipython",
    "version": 3
   },
   "file_extension": ".py",
   "mimetype": "text/x-python",
   "name": "python",
   "nbconvert_exporter": "python",
   "pygments_lexer": "ipython3",
   "version": "3.6.7"
  },
  "toc": {
   "base_numbering": 1,
   "nav_menu": {},
   "number_sections": true,
   "sideBar": true,
   "skip_h1_title": false,
   "title_cell": "Table of Contents",
   "title_sidebar": "Contents",
   "toc_cell": false,
   "toc_position": {},
   "toc_section_display": true,
   "toc_window_display": false
  }
 },
 "nbformat": 4,
 "nbformat_minor": 2
}
