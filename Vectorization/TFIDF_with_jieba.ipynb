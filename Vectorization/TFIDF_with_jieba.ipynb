{
 "cells": [
  {
   "cell_type": "markdown",
   "metadata": {},
   "source": [
    "利用jieba计算文档的Tf-Idf特征值"
   ]
  },
  {
   "cell_type": "code",
   "execution_count": 5,
   "metadata": {},
   "outputs": [],
   "source": [
    "from jieba.analyse import TFIDF\n",
    "\n",
    "\"\"\"\n",
    "TFIDF(idf_path=None)\n",
    "idf_path: 指定用来生成IDF的文档路径，默认为jieba自带\n",
    "注意：\n",
    "该类在初始化时导入了jieba自带的分词字典、词性标注字典和停用词列表，可以通过自定义的方式自定义类集集成\n",
    "\"\"\"\n",
    "tfidf = TFIDF()    # 引入TF-IDF关键词抽取接口"
   ]
  },
  {
   "cell_type": "code",
   "execution_count": 6,
   "metadata": {},
   "outputs": [],
   "source": [
    "# 原始文本\n",
    "text = \"线程是程序执行时的最小单位，它是进程的一个执行流，\\\n",
    "        是CPU调度和分派的基本单位，一个进程可以由很多个线程组成，\\\n",
    "        线程间共享进程的所有资源，每个线程有自己的堆栈和局部变量。\\\n",
    "        线程由CPU独立调度执行，在多CPU环境下就允许多个线程同时运行。\\\n",
    "        同样多线程也可以实现并发操作，每个请求分配一个线程来处理。\""
   ]
  },
  {
   "cell_type": "code",
   "execution_count": 7,
   "metadata": {},
   "outputs": [
    {
     "name": "stderr",
     "output_type": "stream",
     "text": [
      "Building prefix dict from the default dictionary ...\n",
      "Loading model from cache /var/folders/rk/nnl9yhm55kb6325ckffkn6hw0000gn/T/jieba.cache\n",
      "Loading model cost 0.717 seconds.\n",
      "Prefix dict has been built succesfully.\n"
     ]
    },
    {
     "data": {
      "text/plain": [
       "['线程',\n",
       " 'CPU',\n",
       " '进程',\n",
       " '调度',\n",
       " '多线程',\n",
       " '程序执行',\n",
       " '每个',\n",
       " '执行',\n",
       " '堆栈',\n",
       " '局部变量',\n",
       " '单位',\n",
       " '并发',\n",
       " '分派',\n",
       " '一个',\n",
       " '共享',\n",
       " '请求',\n",
       " '最小',\n",
       " '可以',\n",
       " '允许',\n",
       " '分配']"
      ]
     },
     "execution_count": 7,
     "metadata": {},
     "output_type": "execute_result"
    }
   ],
   "source": [
    "\"\"\"\n",
    "tfidf.extract_tags(sentence, topK=20, withWeight=False, allowPOS=(), withFlag=False)\n",
    "参数说明：\n",
    "topK：选排名前top的\n",
    "withWeight： True的话为返回列表元素为（word, tf-idf）元组\n",
    "allowPOS： 是否需要进行POS筛选\n",
    "withFlag：在allowPOS的基础上，返回词性flag\n",
    "\"\"\"\n",
    "tfidf.extract_tags(text)"
   ]
  },
  {
   "cell_type": "code",
   "execution_count": 8,
   "metadata": {},
   "outputs": [
    {
     "data": {
      "text/plain": [
       "[('线程', 1.6092956253903845),\n",
       " ('CPU', 0.6896981251673077),\n",
       " ('进程', 0.3764666465751923),\n",
       " ('调度', 0.32615933279615383),\n",
       " ('多线程', 0.2673207240769231),\n",
       " ('程序执行', 0.2539909706038462),\n",
       " ('每个', 0.22361383583346153),\n",
       " ('执行', 0.21377215274192307),\n",
       " ('堆栈', 0.212835852075),\n",
       " ('局部变量', 0.20620430426153843),\n",
       " ('单位', 0.20618249898423077),\n",
       " ('并发', 0.17934551295134618),\n",
       " ('分派', 0.1757404560996154),\n",
       " ('一个', 0.1625510176228846),\n",
       " ('共享', 0.15951683818615384),\n",
       " ('请求', 0.1368286539801923),\n",
       " ('最小', 0.1366125756480769),\n",
       " ('可以', 0.13481227892923078),\n",
       " ('允许', 0.12333661457230768),\n",
       " ('分配', 0.12104404350384615)]"
      ]
     },
     "execution_count": 8,
     "metadata": {},
     "output_type": "execute_result"
    }
   ],
   "source": [
    "# 因为默认采取的是jieba自带的idf.text，对sentence只做分词，所以要提高准确率需自己准备语料提取idf值\n",
    "tfidf.extract_tags(text, withWeight=True)"
   ]
  },
  {
   "cell_type": "code",
   "execution_count": null,
   "metadata": {},
   "outputs": [],
   "source": []
  }
 ],
 "metadata": {
  "kernelspec": {
   "display_name": "Python 3",
   "language": "python",
   "name": "python3"
  },
  "language_info": {
   "codemirror_mode": {
    "name": "ipython",
    "version": 3
   },
   "file_extension": ".py",
   "mimetype": "text/x-python",
   "name": "python",
   "nbconvert_exporter": "python",
   "pygments_lexer": "ipython3",
   "version": "3.6.7"
  },
  "toc": {
   "base_numbering": 1,
   "nav_menu": {},
   "number_sections": true,
   "sideBar": true,
   "skip_h1_title": false,
   "title_cell": "Table of Contents",
   "title_sidebar": "Contents",
   "toc_cell": false,
   "toc_position": {},
   "toc_section_display": true,
   "toc_window_display": false
  }
 },
 "nbformat": 4,
 "nbformat_minor": 2
}
