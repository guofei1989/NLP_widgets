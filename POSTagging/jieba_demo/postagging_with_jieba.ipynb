{
 "cells": [
  {
   "cell_type": "code",
   "execution_count": 1,
   "metadata": {},
   "outputs": [],
   "source": [
    "import jieba\n",
    "import warnings\n",
    "warnings.filterwarnings('ignore')"
   ]
  },
  {
   "cell_type": "markdown",
   "metadata": {},
   "source": [
    "词性编码\t词性名称\t注解 <br>\n",
    "Ag\t形语素\t形容词性语素。形容词代码为 a，语素代码ｇ前面置以A。 <br>\n",
    "a\t形成词\t取英语形容词 adjective的第1个字母。 <br>\n",
    "ad\t副形词\t直接作状语的形容词。形容词代码 a和副词代码d并在一起。 <br>\n",
    "an\t名形词\t具有名词功能的形容词。形容词代码 a和名词代码n并在一起。 <br>\n",
    "b\t区别词\t取汉字“别”的声母。 <br>\n",
    "c\t连词\t取英语连词 conjunction的第1个字母。 <br>\n",
    "dg\t副语素\t副词性语素。副词代码为 d，语素代码ｇ前面置以D。 <br>\n",
    "d\t副词\t取 adverb的第2个字母，因其第1个字母已用于形容词。 <br>\n",
    "e\t叹词\t取英语叹词 exclamation的第1个字母。 <br>\n",
    "f\t方位词\t取汉字“方” <br>\n",
    "g\t语素\t绝大多数语素都能作为合成词的“词根”，取汉字“根”的声母。 <br>\n",
    "h\t前接成分\t取英语 head的第1个字母。 <br>\n",
    "i\t成语\t取英语成语 idiom的第1个字母。 <br>\n",
    "j\t简称略语\t取汉字“简”的声母。 <br>\n",
    "k\t后接成分\t <br>\n",
    "l\t习用语\t习用语尚未成为成语，有点“临时性”，取“临”的声母。 <br>\n",
    "m\t数词\t取英语 numeral的第3个字母，n，u已有他用。 <br>\n",
    "Ng\t名语素\t名词性语素。名词代码为 n，语素代码ｇ前面置以N。 <br>\n",
    "n\t名词\t取英语名词 noun的第1个字母。 <br>\n",
    "nr\t人名\t名词代码 n和“人(ren)”的声母并在一起。 <br>\n",
    "ns\t地名\t名词代码 n和处所词代码s并在一起。 <br>\n",
    "nt\t机构团体\t“团”的声母为 t，名词代码n和t并在一起。 <br>\n",
    "nz\t其他专名\t“专”的声母的第 1个字母为z，名词代码n和z并在一起。 <br>\n",
    "o\t拟声词\t取英语拟声词 onomatopoeia的第1个字母。 <br>\n",
    "p\t介词\t取英语介词 prepositional的第1个字母。 <br>\n",
    "q\t量词\t取英语 quantity的第1个字母。 <br>\n",
    "r\t代词\t取英语代词 pronoun的第2个字母,因p已用于介词。 <br>\n",
    "s\t处所词\t取英语 space的第1个字母。 <br>\n",
    "tg\t时语素\t时间词性语素。时间词代码为 t,在语素的代码g前面置以T。 <br>\n",
    "t\t时间词\t取英语 time的第1个字母。 <br>\n",
    "u\t助词\t取英语助词 auxiliary <br>\n",
    "vg\t动语素\t动词性语素。动词代码为 v。在语素的代码g前面置以V。 <br>\n",
    "v\t动词\t取英语动词 verb的第一个字母 <br>\n",
    "vd\t副动词\t直接作状语的动词。动词和副词的代码并在一起。 <br>\n",
    "vn\t名动词\t指具有名词功能的动词。动词和名词的代码并在一起。 <br>\n",
    "w\t标点符号\t <br>\n",
    "x\t非语素字\t非语素字只是一个符号，字母 x通常用于代表未知数、符号。 <br>\n",
    "y\t语气词\t取汉字“语”的声母。 <br>\n",
    "z\t状态词\t取汉字“状”的声母的前一个字母 <br>"
   ]
  },
  {
   "cell_type": "code",
   "execution_count": 2,
   "metadata": {},
   "outputs": [
    {
     "name": "stderr",
     "output_type": "stream",
     "text": [
      "Building prefix dict from the default dictionary ...\n",
      "Loading model from cache /var/folders/rk/nnl9yhm55kb6325ckffkn6hw0000gn/T/jieba.cache\n",
      "Loading model cost 0.651 seconds.\n",
      "Prefix dict has been built succesfully.\n"
     ]
    },
    {
     "name": "stdout",
     "output_type": "stream",
     "text": [
      "我,r\n",
      "\n",
      "喜欢,v\n",
      "\n",
      "今天,t\n",
      "\n",
      "温暖,an\n",
      "\n",
      "的,uj\n",
      "\n",
      "天气,n\n",
      "\n"
     ]
    }
   ],
   "source": [
    "import jieba.posseg as psg\n",
    "sentence = \"我喜欢今天温暖的天气\"\n",
    "for w, t in psg.cut(sentence):\n",
    "    print(\"{},{}\\n\".format(w, t))"
   ]
  },
  {
   "cell_type": "code",
   "execution_count": null,
   "metadata": {},
   "outputs": [],
   "source": []
  }
 ],
 "metadata": {
  "kernelspec": {
   "display_name": "Python 3",
   "language": "python",
   "name": "python3"
  },
  "language_info": {
   "codemirror_mode": {
    "name": "ipython",
    "version": 3
   },
   "file_extension": ".py",
   "mimetype": "text/x-python",
   "name": "python",
   "nbconvert_exporter": "python",
   "pygments_lexer": "ipython3",
   "version": "3.6.7"
  },
  "toc": {
   "base_numbering": 1,
   "nav_menu": {},
   "number_sections": true,
   "sideBar": true,
   "skip_h1_title": false,
   "title_cell": "Table of Contents",
   "title_sidebar": "Contents",
   "toc_cell": false,
   "toc_position": {},
   "toc_section_display": true,
   "toc_window_display": false
  }
 },
 "nbformat": 4,
 "nbformat_minor": 2
}
