{
 "cells": [
  {
   "cell_type": "markdown",
   "metadata": {},
   "source": [
    "非负矩阵分解(non-negative matrix factorization, NMF)也是一种矩阵分解方法<br>\n",
    "其通过类似梯度下降法求解最合适的W和H矩阵中的每个元素，使得待分解矩阵A=M*N<br>\n",
    "因为每个元素均为非负，所以可以从概率的角度去思考矩阵分解意义<br>\n",
    "A(m*n):m篇文档，n个词；M(m*k):m个主题对应k个主题的概率; N(k*n):k个主题下n个词的概率<br>\n",
    "A(m*n):m个词，n个文档；M(m*k):m个词与k个主题的概率相关度; N(k*n):各文档对应k个主题的分布概率"
   ]
  },
  {
   "cell_type": "code",
   "execution_count": 1,
   "metadata": {},
   "outputs": [
    {
     "data": {
      "text/plain": [
       "array([[1.67371185, 0.02013017],\n",
       "       [0.40564826, 2.17004352],\n",
       "       [0.77627836, 1.5179425 ],\n",
       "       [2.66991709, 0.00940262]])"
      ]
     },
     "execution_count": 1,
     "metadata": {},
     "output_type": "execute_result"
    }
   ],
   "source": [
    "# 利用sklearn中NMF进行分解\n",
    "\"\"\"\n",
    "NMF(n_components=None, init=None, solver='cd',\n",
    "                 beta_loss='frobenius', tol=1e-4, max_iter=200,\n",
    "                 random_state=None, alpha=0., l1_ratio=0., verbose=0,\n",
    "                 shuffle=False)\n",
    "n_components：主题数量\n",
    "alpha：L1和L2正则系数\n",
    "l1_ratio：L1正则化比率\n",
    "\"\"\"\n",
    "\n",
    "import numpy as np\n",
    "X = np.array([[1,1,5,2,3], [0,6,2,1,1], [3, 4,0,3,1], [4, 1,5,6,3]])  # 数据\n",
    "\n",
    "from sklearn.decomposition import NMF\n",
    "model = NMF(n_components=2, alpha=0.01)\n",
    "\n",
    "W = model.fit_transform(X)\n",
    "W    # 意义取决于X行和列的定义"
   ]
  },
  {
   "cell_type": "code",
   "execution_count": 2,
   "metadata": {},
   "outputs": [
    {
     "data": {
      "text/plain": [
       "array([[1.32014421, 0.40901559, 2.10322743, 1.99087019, 1.29852389],\n",
       "       [0.25859086, 2.59911791, 0.00488947, 0.37089193, 0.14622829]])"
      ]
     },
     "execution_count": 2,
     "metadata": {},
     "output_type": "execute_result"
    }
   ],
   "source": [
    "H = model.components_\n",
    "H"
   ]
  },
  {
   "cell_type": "code",
   "execution_count": null,
   "metadata": {},
   "outputs": [],
   "source": []
  }
 ],
 "metadata": {
  "kernelspec": {
   "display_name": "Python 3",
   "language": "python",
   "name": "python3"
  },
  "language_info": {
   "codemirror_mode": {
    "name": "ipython",
    "version": 3
   },
   "file_extension": ".py",
   "mimetype": "text/x-python",
   "name": "python",
   "nbconvert_exporter": "python",
   "pygments_lexer": "ipython3",
   "version": "3.6.7"
  },
  "toc": {
   "base_numbering": 1,
   "nav_menu": {},
   "number_sections": true,
   "sideBar": true,
   "skip_h1_title": false,
   "title_cell": "Table of Contents",
   "title_sidebar": "Contents",
   "toc_cell": false,
   "toc_position": {},
   "toc_section_display": true,
   "toc_window_display": false
  }
 },
 "nbformat": 4,
 "nbformat_minor": 2
}
