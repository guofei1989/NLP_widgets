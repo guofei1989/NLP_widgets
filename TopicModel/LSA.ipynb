{
 "cells": [
  {
   "cell_type": "markdown",
   "metadata": {},
   "source": [
    "潜在语义分析LSA(latent semantic analysis)和潜在语义索引(latent semantic index)，是一种通过SVD分解快速计算文本主题的方法.<br>\n",
    "A = U*B*V, 其中A表示文档向量（一般为TF-IDF）， U表示文档-主题相关度矩阵、B表示主题-词义相关度矩阵、V表示词义-词语相关度矩阵。或者可以反过来理解（取决于文档向量A的行与列的定义）<br>\n",
    "这种方法并非基于统计，属于无监督学习，快速简单，但存在SVD分解耗时、主题数K自定义、难以解释等缺点，适合粗粒度、快速场景。"
   ]
  },
  {
   "cell_type": "markdown",
   "metadata": {},
   "source": [
    "#### 一个简单的例子"
   ]
  },
  {
   "attachments": {
    "image.png": {
     "image/png": "[encoded data removed]"
    }
   },
   "cell_type": "markdown",
   "metadata": {},
   "source": [
    "![image.png](attachment:image.png)"
   ]
  },
  {
   "cell_type": "code",
   "execution_count": 1,
   "metadata": {},
   "outputs": [
    {
     "data": {
      "text/plain": [
       "array([[1, 1, 0],\n",
       "       [0, 1, 0],\n",
       "       [1, 0, 0],\n",
       "       [0, 1, 0],\n",
       "       [1, 0, 0],\n",
       "       [1, 0, 1],\n",
       "       [1, 1, 0],\n",
       "       [1, 1, 0],\n",
       "       [1, 0, 0],\n",
       "       [0, 2, 1],\n",
       "       [0, 1, 1]])"
      ]
     },
     "execution_count": 1,
     "metadata": {},
     "output_type": "execute_result"
    }
   ],
   "source": [
    "import numpy as np\n",
    "A = np.array([[1,0,1,0,1,1,1,1,1,0,0], [1,1,0,1,0,0,1,1,0,2,1], [0,0,0,0,0,1,0,0,0,1,1]]).T\n",
    "A"
   ]
  },
  {
   "cell_type": "code",
   "execution_count": 16,
   "metadata": {},
   "outputs": [],
   "source": [
    "U,s,VT = np.linalg.svd(A, full_matrices=False)"
   ]
  },
  {
   "cell_type": "code",
   "execution_count": 17,
   "metadata": {},
   "outputs": [
    {
     "data": {
      "text/plain": [
       "array([[-0.36380078, -0.19156776,  0.23981928],\n",
       "       [-0.23061355,  0.19050295,  0.25841056],\n",
       "       [-0.13318722, -0.38207071, -0.01859128],\n",
       "       [-0.23061355,  0.19050295,  0.25841056],\n",
       "       [-0.13318722, -0.38207071, -0.01859128],\n",
       "       [-0.21715968, -0.29925338, -0.69877685],\n",
       "       [-0.36380078, -0.19156776,  0.23981928],\n",
       "       [-0.36380078, -0.19156776,  0.23981928],\n",
       "       [-0.13318722, -0.38207071, -0.01859128],\n",
       "       [-0.54519957,  0.46382323, -0.16336446],\n",
       "       [-0.31458601,  0.27332028, -0.42177502]])"
      ]
     },
     "execution_count": 17,
     "metadata": {},
     "output_type": "execute_result"
    }
   ],
   "source": [
    "# 这里，U表示词语-词义矩阵\n",
    "U"
   ]
  },
  {
   "cell_type": "code",
   "execution_count": 18,
   "metadata": {},
   "outputs": [
    {
     "data": {
      "text/plain": [
       "array([3.58119835, 2.29943934, 1.37389851])"
      ]
     },
     "execution_count": 18,
     "metadata": {},
     "output_type": "execute_result"
    }
   ],
   "source": [
    "# 这里 s 表示 语义-主题 矩阵\n",
    "s"
   ]
  },
  {
   "cell_type": "code",
   "execution_count": 19,
   "metadata": {},
   "outputs": [
    {
     "data": {
      "text/plain": [
       "array([[-0.47696986, -0.82587288, -0.30072204],\n",
       "       [-0.87854842,  0.43804997,  0.19043343],\n",
       "       [-0.02554253,  0.35502988, -0.93450595]])"
      ]
     },
     "execution_count": 19,
     "metadata": {},
     "output_type": "execute_result"
    }
   ],
   "source": [
    "# 这里 VT表示 主题-文档 矩阵\n",
    "VT"
   ]
  },
  {
   "cell_type": "markdown",
   "metadata": {},
   "source": [
    "**通过 主题-文档 矩阵 计算两个文本间的相似度**"
   ]
  },
  {
   "cell_type": "code",
   "execution_count": 22,
   "metadata": {},
   "outputs": [
    {
     "data": {
      "text/plain": [
       "5.551115123125784e-17"
      ]
     },
     "execution_count": 22,
     "metadata": {},
     "output_type": "execute_result"
    }
   ],
   "source": [
    "# 通过夹角余弦计算相似度\n",
    "np.dot(VT[:,1],VT[:,2])/(np.sqrt(np.sum(VT[:,1]**2))*np.sqrt(np.sum(VT[:,2]**2)))"
   ]
  },
  {
   "cell_type": "code",
   "execution_count": null,
   "metadata": {},
   "outputs": [],
   "source": []
  }
 ],
 "metadata": {
  "kernelspec": {
   "display_name": "Python 3",
   "language": "python",
   "name": "python3"
  },
  "language_info": {
   "codemirror_mode": {
    "name": "ipython",
    "version": 3
   },
   "file_extension": ".py",
   "mimetype": "text/x-python",
   "name": "python",
   "nbconvert_exporter": "python",
   "pygments_lexer": "ipython3",
   "version": "3.6.7"
  },
  "toc": {
   "base_numbering": 1,
   "nav_menu": {},
   "number_sections": true,
   "sideBar": true,
   "skip_h1_title": false,
   "title_cell": "Table of Contents",
   "title_sidebar": "Contents",
   "toc_cell": false,
   "toc_position": {},
   "toc_section_display": true,
   "toc_window_display": false
  }
 },
 "nbformat": 4,
 "nbformat_minor": 2
}
