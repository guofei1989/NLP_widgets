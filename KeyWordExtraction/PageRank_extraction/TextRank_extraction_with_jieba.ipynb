{
 "cells": [
  {
   "cell_type": "markdown",
   "metadata": {},
   "source": [
    "利用jieba中自带的textrank算法（基于PageRank算法）进行关键词抽取"
   ]
  },
  {
   "cell_type": "code",
   "execution_count": 1,
   "metadata": {},
   "outputs": [],
   "source": [
    "from jieba.analyse import textrank"
   ]
  },
  {
   "cell_type": "code",
   "execution_count": 6,
   "metadata": {},
   "outputs": [
    {
     "data": {
      "text/plain": [
       "['线程', '进程', '调度', '单位', '操作', '请求', '分配', '允许', '基本', '并发']"
      ]
     },
     "execution_count": 6,
     "metadata": {},
     "output_type": "execute_result"
    }
   ],
   "source": [
    "\"\"\"\n",
    "textrank(sentence, topK=20, withWeight=False, allowPOS=('ns', 'n', 'vn', 'v'), withFlag=False)\n",
    "topK: 取排名topK的值\n",
    "withWeight： 返回权重\n",
    "allowPOS：词性标注范围\n",
    "withFlag：返回词性\n",
    "\"\"\"\n",
    "\n",
    "paragraph = \"线程是程序执行时的最小单位，它是进程的一个执行流，\\\n",
    "        是CPU调度和分派的基本单位，一个进程可以由很多个线程组成，\\\n",
    "        线程间共享进程的所有资源，每个线程有自己的堆栈和局部变量。\\\n",
    "        线程由CPU独立调度执行，在多CPU环境下就允许多个线程同时运行。\\\n",
    "        同样多线程也可以实现并发操作，每个请求分配一个线程来处理。\"\n",
    "\n",
    "textrank(paragraph, topK=10)"
   ]
  },
  {
   "cell_type": "code",
   "execution_count": null,
   "metadata": {},
   "outputs": [],
   "source": []
  }
 ],
 "metadata": {
  "kernelspec": {
   "display_name": "Python 3",
   "language": "python",
   "name": "python3"
  },
  "language_info": {
   "codemirror_mode": {
    "name": "ipython",
    "version": 3
   },
   "file_extension": ".py",
   "mimetype": "text/x-python",
   "name": "python",
   "nbconvert_exporter": "python",
   "pygments_lexer": "ipython3",
   "version": "3.6.7"
  },
  "toc": {
   "base_numbering": 1,
   "nav_menu": {},
   "number_sections": true,
   "sideBar": true,
   "skip_h1_title": false,
   "title_cell": "Table of Contents",
   "title_sidebar": "Contents",
   "toc_cell": false,
   "toc_position": {},
   "toc_section_display": true,
   "toc_window_display": false
  }
 },
 "nbformat": 4,
 "nbformat_minor": 2
}
